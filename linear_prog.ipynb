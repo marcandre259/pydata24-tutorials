{
 "cells": [
  {
   "cell_type": "code",
   "execution_count": 1,
   "metadata": {},
   "outputs": [],
   "source": [
    "import polars as pl\n",
    "import numpy as np\n",
    "from ortools.linear_solver import pywraplp"
   ]
  },
  {
   "cell_type": "markdown",
   "metadata": {},
   "source": [
    "## Portfolio optimization over 1 year"
   ]
  },
  {
   "cell_type": "code",
   "execution_count": null,
   "metadata": {},
   "outputs": [],
   "source": [
    "solver = pywraplp.Solver.CreateSolver(\"GLOP\")"
   ]
  },
  {
   "cell_type": "code",
   "execution_count": 20,
   "metadata": {},
   "outputs": [
    {
     "data": {
      "text/plain": [
       "0"
      ]
     },
     "execution_count": 20,
     "metadata": {},
     "output_type": "execute_result"
    }
   ],
   "source": [
    "bond = solver.NumVar(0.0, solver.infinity(), \"bond\") \n",
    "bank = solver.NumVar(-20.0, solver.infinity(), \"bond\") \n",
    "\n",
    "# Add constraints -> You can use inequalities, negative values, etc.\n",
    "# no need to specify slack & decision variables\n",
    "solver.Add(100.0 - bond - bank == 0.0)\n",
    "\n",
    "# Objective equation, just take the negative if you want to minimize\n",
    "solver.Maximize(1.06 * bank + 1.3 * bond)\n",
    "\n",
    "solver.Solve()"
   ]
  },
  {
   "cell_type": "code",
   "execution_count": 26,
   "metadata": {},
   "outputs": [
    {
     "data": {
      "text/plain": [
       "134.8"
      ]
     },
     "execution_count": 26,
     "metadata": {},
     "output_type": "execute_result"
    }
   ],
   "source": [
    "solver.Objective().Value()"
   ]
  },
  {
   "cell_type": "code",
   "execution_count": 29,
   "metadata": {},
   "outputs": [
    {
     "name": "stdout",
     "output_type": "stream",
     "text": [
      "\n",
      "Bond value: 120.00 \n",
      "Bank deposit: -20.00\n",
      "\n"
     ]
    }
   ],
   "source": [
    "print(f\"\"\"\n",
    "Bond value: {bond.SolutionValue():.2f} \n",
    "Bank deposit: {bank.SolutionValue():.2f}\n",
    "\"\"\")"
   ]
  },
  {
   "cell_type": "markdown",
   "metadata": {},
   "source": [
    "## Portfolio optimization over a period of 3 years"
   ]
  },
  {
   "cell_type": "code",
   "execution_count": 2,
   "metadata": {},
   "outputs": [
    {
     "data": {
      "text/plain": [
       "<ortools.linear_solver.pywraplp.Solver; proxy of <Swig Object of type 'operations_research::MPSolver *' at 0x1118ebf90> >"
      ]
     },
     "execution_count": 2,
     "metadata": {},
     "output_type": "execute_result"
    }
   ],
   "source": [
    "solver = pywraplp.Solver.CreateSolver(\"GLOP\")\n",
    "solver"
   ]
  },
  {
   "cell_type": "code",
   "execution_count": 8,
   "metadata": {},
   "outputs": [],
   "source": [
    "annuity_year1 = solver.NumVar(0.0, solver.infinity(), \"annuity_year1\")\n",
    "\n",
    "account_year1 = solver.NumVar(-20.0, solver.infinity(), \"account_year1\")\n",
    "account_year2 = solver.NumVar(-20.0, solver.infinity(), \"account_year2\")\n",
    "account_year3 = solver.NumVar(-20.0, solver.infinity(), \"account_year3\")\n",
    "\n",
    "bond_year2 = solver.NumVar(0.0, 50.0, \"bond_year2\")"
   ]
  },
  {
   "cell_type": "code",
   "execution_count": 9,
   "metadata": {},
   "outputs": [
    {
     "data": {
      "text/plain": [
       "<ortools.linear_solver.pywraplp.Constraint; proxy of <Swig Object of type 'operations_research::MPConstraint *' at 0x113134c90> >"
      ]
     },
     "execution_count": 9,
     "metadata": {},
     "output_type": "execute_result"
    }
   ],
   "source": [
    "solver.Add(annuity_year1 + account_year1 <= 100.0)\n",
    "solver.Add(1.06 * account_year1 - annuity_year1 - account_year2 - bond_year2 == 0.0)\n",
    "solver.Add(1.06 * account_year2 - annuity_year1 - account_year3 == 0.0)"
   ]
  },
  {
   "cell_type": "code",
   "execution_count": 10,
   "metadata": {},
   "outputs": [],
   "source": [
    "solver.Maximize(1.3 * 3.0 * annuity_year1 + 1.06 * account_year3 + 1.3 * bond_year2)"
   ]
  },
  {
   "cell_type": "code",
   "execution_count": 11,
   "metadata": {},
   "outputs": [
    {
     "data": {
      "text/plain": [
       "0"
      ]
     },
     "execution_count": 11,
     "metadata": {},
     "output_type": "execute_result"
    }
   ],
   "source": [
    "solver.Solve()"
   ]
  },
  {
   "cell_type": "code",
   "execution_count": 13,
   "metadata": {},
   "outputs": [
    {
     "data": {
      "text/plain": [
       "141.0182434979269"
      ]
     },
     "execution_count": 13,
     "metadata": {},
     "output_type": "execute_result"
    }
   ],
   "source": [
    "solver.Objective().Value()"
   ]
  },
  {
   "cell_type": "code",
   "execution_count": 19,
   "metadata": {},
   "outputs": [
    {
     "name": "stdout",
     "output_type": "stream",
     "text": [
      "\n",
      "annuity: 24.93\n",
      "deposit year 1: 75.07\n",
      "deposit year 2: 4.65\n",
      "deposit year 3: -20.00\n",
      "bond year 2: 50.00\n",
      "\n"
     ]
    }
   ],
   "source": [
    "print(f\"\"\"\n",
    "annuity: {annuity_year1.SolutionValue():.2f}\n",
    "deposit year 1: {account_year1.SolutionValue():.2f}\n",
    "deposit year 2: {account_year2.SolutionValue():.2f}\n",
    "deposit year 3: {account_year3.SolutionValue():.2f}\n",
    "bond year 2: {bond_year2.SolutionValue():.2f}\n",
    "\"\"\")"
   ]
  }
 ],
 "metadata": {
  "kernelspec": {
   "display_name": "pydata-tutorial",
   "language": "python",
   "name": "python3"
  },
  "language_info": {
   "codemirror_mode": {
    "name": "ipython",
    "version": 3
   },
   "file_extension": ".py",
   "mimetype": "text/x-python",
   "name": "python",
   "nbconvert_exporter": "python",
   "pygments_lexer": "ipython3",
   "version": "3.12.4"
  }
 },
 "nbformat": 4,
 "nbformat_minor": 2
}
